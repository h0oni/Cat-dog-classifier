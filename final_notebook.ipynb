{
 "cells": [
  {
   "cell_type": "markdown",
   "metadata": {},
   "source": [
    "## __Objective:__ Create a multiclass image classifier\n",
    "\n",
    "## __Purpose:__ Can be used to classify  species of animal\n",
    "\n",
    "### Use transfer learning and vgg16 model"
   ]
  },
  {
   "cell_type": "markdown",
   "metadata": {},
   "source": [
    "### importing necessary libraries"
   ]
  },
  {
   "cell_type": "code",
   "execution_count": 1,
   "metadata": {},
   "outputs": [
    {
     "name": "stderr",
     "output_type": "stream",
     "text": [
      "Using TensorFlow backend.\n",
      "C:\\Users\\Sakib\\Anaconda3\\envs\\Tensorflow\\lib\\site-packages\\tensorflow\\python\\framework\\dtypes.py:526: FutureWarning: Passing (type, 1) or '1type' as a synonym of type is deprecated; in a future version of numpy, it will be understood as (type, (1,)) / '(1,)type'.\n",
      "  _np_qint8 = np.dtype([(\"qint8\", np.int8, 1)])\n",
      "C:\\Users\\Sakib\\Anaconda3\\envs\\Tensorflow\\lib\\site-packages\\tensorflow\\python\\framework\\dtypes.py:527: FutureWarning: Passing (type, 1) or '1type' as a synonym of type is deprecated; in a future version of numpy, it will be understood as (type, (1,)) / '(1,)type'.\n",
      "  _np_quint8 = np.dtype([(\"quint8\", np.uint8, 1)])\n",
      "C:\\Users\\Sakib\\Anaconda3\\envs\\Tensorflow\\lib\\site-packages\\tensorflow\\python\\framework\\dtypes.py:528: FutureWarning: Passing (type, 1) or '1type' as a synonym of type is deprecated; in a future version of numpy, it will be understood as (type, (1,)) / '(1,)type'.\n",
      "  _np_qint16 = np.dtype([(\"qint16\", np.int16, 1)])\n",
      "C:\\Users\\Sakib\\Anaconda3\\envs\\Tensorflow\\lib\\site-packages\\tensorflow\\python\\framework\\dtypes.py:529: FutureWarning: Passing (type, 1) or '1type' as a synonym of type is deprecated; in a future version of numpy, it will be understood as (type, (1,)) / '(1,)type'.\n",
      "  _np_quint16 = np.dtype([(\"quint16\", np.uint16, 1)])\n",
      "C:\\Users\\Sakib\\Anaconda3\\envs\\Tensorflow\\lib\\site-packages\\tensorflow\\python\\framework\\dtypes.py:530: FutureWarning: Passing (type, 1) or '1type' as a synonym of type is deprecated; in a future version of numpy, it will be understood as (type, (1,)) / '(1,)type'.\n",
      "  _np_qint32 = np.dtype([(\"qint32\", np.int32, 1)])\n",
      "C:\\Users\\Sakib\\Anaconda3\\envs\\Tensorflow\\lib\\site-packages\\tensorflow\\python\\framework\\dtypes.py:535: FutureWarning: Passing (type, 1) or '1type' as a synonym of type is deprecated; in a future version of numpy, it will be understood as (type, (1,)) / '(1,)type'.\n",
      "  np_resource = np.dtype([(\"resource\", np.ubyte, 1)])\n"
     ]
    }
   ],
   "source": [
    "import pandas as pd\n",
    "import numpy as np \n",
    "import itertools\n",
    "import keras\n",
    "from sklearn import metrics\n",
    "from sklearn.metrics import confusion_matrix\n",
    "from keras.preprocessing.image import ImageDataGenerator, img_to_array, load_img \n",
    "from keras.models import Sequential \n",
    "from keras import optimizers\n",
    "from keras.preprocessing import image\n",
    "from keras.layers import Dropout, Flatten, Dense  \n",
    "from keras import applications  \n",
    "from keras.utils.np_utils import to_categorical  \n",
    "import matplotlib.pyplot as plt \n",
    "import matplotlib.image as mpimg\n",
    "%matplotlib inline\n",
    "import math  \n",
    "import datetime\n",
    "import time"
   ]
  },
  {
   "cell_type": "markdown",
   "metadata": {},
   "source": [
    "Loading up our image datasets"
   ]
  },
  {
   "cell_type": "code",
   "execution_count": 2,
   "metadata": {},
   "outputs": [],
   "source": [
    "#Default dimensions we found online\n",
    "img_width, img_height = 224, 224  \n",
    "   \n",
    "#Create a bottleneck file\n",
    "top_model_weights_path = 'bottleneck_fc_model.h5' \n",
    "\n",
    "# loading up our datasets\n",
    "train_data_dir = 'data3/train'  \n",
    "validation_data_dir = 'data3/validation'  \n",
    "test_data_dir = 'data3/test'\n",
    "   \n",
    "# number of epochs to train top model  \n",
    "epochs = 16 #this has been changed after multiple model run  \n",
    "# batch size used by flow_from_directory and predict_generator  \n",
    "batch_size = 50  "
   ]
  },
  {
   "cell_type": "code",
   "execution_count": 3,
   "metadata": {},
   "outputs": [
    {
     "name": "stdout",
     "output_type": "stream",
     "text": [
      "WARNING:tensorflow:From C:\\Users\\Sakib\\Anaconda3\\envs\\Tensorflow\\lib\\site-packages\\tensorflow\\python\\framework\\op_def_library.py:263: colocate_with (from tensorflow.python.framework.ops) is deprecated and will be removed in a future version.\n",
      "Instructions for updating:\n",
      "Colocations handled automatically by placer.\n"
     ]
    }
   ],
   "source": [
    "#Loading vgc16 model\n",
    "vgg16 = applications.VGG16(include_top=False, weights='imagenet') "
   ]
  },
  {
   "cell_type": "code",
   "execution_count": 4,
   "metadata": {},
   "outputs": [],
   "source": [
    "datagen = ImageDataGenerator(rescale=1. / 255)  #needed to create the bottleneck .npy files"
   ]
  },
  {
   "cell_type": "markdown",
   "metadata": {},
   "source": [
    "# Creation of weights/features with VGG16"
   ]
  },
  {
   "cell_type": "code",
   "execution_count": 5,
   "metadata": {},
   "outputs": [
    {
     "name": "stdout",
     "output_type": "stream",
     "text": [
      "Found 18826 images belonging to 10 classes.\n",
      "Time:  0:01:03.924904\n"
     ]
    }
   ],
   "source": [
    "#__this can take an hour and half to run so only run it once. \n",
    "#once the npy files have been created, no need to run again. Convert this cell to a code cell to run.__\n",
    "\n",
    "start = datetime.datetime.now()\n",
    "   \n",
    "generator = datagen.flow_from_directory(  \n",
    "     train_data_dir,  \n",
    "     target_size=(img_width, img_height),  \n",
    "     batch_size=batch_size,  \n",
    "     class_mode=None,  \n",
    "     shuffle=False)  \n",
    "   \n",
    "nb_train_samples = len(generator.filenames)  \n",
    "num_classes = len(generator.class_indices)  \n",
    "   \n",
    "predict_size_train = int(math.ceil(nb_train_samples / batch_size))  \n",
    "   \n",
    "bottleneck_features_train = vgg16.predict_generator(generator, predict_size_train)  \n",
    "   \n",
    "np.save('bottleneck_features_train.npy', bottleneck_features_train)\n",
    "end= datetime.datetime.now()\n",
    "elapsed= end-start\n",
    "print ('Time: ', elapsed)"
   ]
  },
  {
   "cell_type": "code",
   "execution_count": 6,
   "metadata": {},
   "outputs": [
    {
     "name": "stdout",
     "output_type": "stream",
     "text": [
      "---------------------------------------------------------------------------------------------------------------------\n"
     ]
    }
   ],
   "source": [
    "print('-'*117)"
   ]
  },
  {
   "cell_type": "code",
   "execution_count": 7,
   "metadata": {},
   "outputs": [
    {
     "name": "stdout",
     "output_type": "stream",
     "text": [
      "Found 638 images belonging to 10 classes.\n",
      "Time:  0:00:03.576060\n"
     ]
    }
   ],
   "source": [
    "#__this can take half an hour to run so only run it once. once the npy files have been created, no need to run again. Convert this cell to a code cell to run.__\n",
    "\n",
    "start = datetime.datetime.now()\n",
    "generator = datagen.flow_from_directory(  \n",
    "     validation_data_dir,  \n",
    "     target_size=(img_width, img_height),  \n",
    "     batch_size=batch_size,  \n",
    "     class_mode=None,  \n",
    "     shuffle=False)  \n",
    "   \n",
    "nb_validation_samples = len(generator.filenames)  \n",
    "   \n",
    "predict_size_validation = int(math.ceil(nb_validation_samples / batch_size))  \n",
    "   \n",
    "bottleneck_features_validation = vgg16.predict_generator(  \n",
    "     generator, predict_size_validation)  \n",
    "   \n",
    "np.save('bottleneck_features_validation.npy', bottleneck_features_validation) \n",
    "end= datetime.datetime.now()\n",
    "elapsed= end-start\n",
    "print ('Time: ', elapsed)"
   ]
  },
  {
   "cell_type": "code",
   "execution_count": 8,
   "metadata": {},
   "outputs": [
    {
     "name": "stdout",
     "output_type": "stream",
     "text": [
      "---------------------------------------------------------------------------------------------------------------------\n"
     ]
    }
   ],
   "source": [
    "print('-'*117)"
   ]
  },
  {
   "cell_type": "code",
   "execution_count": 9,
   "metadata": {},
   "outputs": [
    {
     "name": "stdout",
     "output_type": "stream",
     "text": [
      "Found 264 images belonging to 10 classes.\n",
      "Time:  0:00:01.611912\n"
     ]
    }
   ],
   "source": [
    "#__this can take half an hour to run so only run it once. once the npy files have been created, no need to run again. Convert this cell to a code cell to run.__\n",
    "\n",
    "start = datetime.datetime.now()\n",
    "generator = datagen.flow_from_directory(  \n",
    "     test_data_dir,  \n",
    "     target_size=(img_width, img_height),  \n",
    "     batch_size=batch_size,  \n",
    "     class_mode=None,  \n",
    "     shuffle=False)  \n",
    "   \n",
    "nb_test_samples = len(generator.filenames)  \n",
    "   \n",
    "predict_size_test = int(math.ceil(nb_test_samples / batch_size))  \n",
    "   \n",
    "bottleneck_features_test = vgg16.predict_generator(  \n",
    "     generator, predict_size_test)  \n",
    "   \n",
    "np.save('bottleneck_features_test.npy', bottleneck_features_test) \n",
    "end= datetime.datetime.now()\n",
    "elapsed= end-start\n",
    "print ('Time: ', elapsed)"
   ]
  },
  {
   "cell_type": "markdown",
   "metadata": {},
   "source": [
    "# Loading training, validation and testing data"
   ]
  },
  {
   "cell_type": "code",
   "execution_count": 10,
   "metadata": {},
   "outputs": [
    {
     "name": "stdout",
     "output_type": "stream",
     "text": [
      "Found 18826 images belonging to 10 classes.\n"
     ]
    }
   ],
   "source": [
    "#training data\n",
    "generator_top = datagen.flow_from_directory(  \n",
    "         train_data_dir,  \n",
    "         target_size=(img_width, img_height),  \n",
    "         batch_size=batch_size,  \n",
    "         class_mode='categorical',  \n",
    "         shuffle=False)  \n",
    "   \n",
    "nb_train_samples = len(generator_top.filenames)  \n",
    "num_classes = len(generator_top.class_indices)  \n",
    "   \n",
    "# load the bottleneck features saved earlier  \n",
    "train_data = np.load('bottleneck_features_train.npy')  \n",
    "   \n",
    "# get the class lebels for the training data, in the original order  \n",
    "train_labels = generator_top.classes  \n",
    "   \n",
    "# convert the training labels to categorical vectors  \n",
    "train_labels = to_categorical(train_labels, num_classes=num_classes) "
   ]
  },
  {
   "cell_type": "code",
   "execution_count": 11,
   "metadata": {},
   "outputs": [
    {
     "name": "stdout",
     "output_type": "stream",
     "text": [
      "Found 638 images belonging to 10 classes.\n"
     ]
    }
   ],
   "source": [
    "#validation data\n",
    "generator_top = datagen.flow_from_directory(  \n",
    "         validation_data_dir,  \n",
    "         target_size=(img_width, img_height),  \n",
    "         batch_size=batch_size,  \n",
    "         class_mode=None,  \n",
    "         shuffle=False)  \n",
    "   \n",
    "nb_validation_samples = len(generator_top.filenames)  \n",
    "   \n",
    "validation_data = np.load('bottleneck_features_validation.npy')  \n",
    "   \n",
    "\n",
    "validation_labels = generator_top.classes  \n",
    "validation_labels = to_categorical(validation_labels, num_classes=num_classes)  "
   ]
  },
  {
   "cell_type": "code",
   "execution_count": 12,
   "metadata": {},
   "outputs": [
    {
     "name": "stdout",
     "output_type": "stream",
     "text": [
      "Found 264 images belonging to 10 classes.\n"
     ]
    }
   ],
   "source": [
    "#testing data\n",
    "generator_top = datagen.flow_from_directory(  \n",
    "         test_data_dir,  \n",
    "         target_size=(img_width, img_height),  \n",
    "         batch_size=batch_size,  \n",
    "         class_mode=None,  \n",
    "         shuffle=False)  \n",
    "   \n",
    "nb_test_samples = len(generator_top.filenames)  \n",
    "   \n",
    "test_data = np.load('bottleneck_features_test.npy')  \n",
    "   \n",
    "\n",
    "test_labels = generator_top.classes  \n",
    "test_labels = to_categorical(test_labels, num_classes=num_classes)"
   ]
  },
  {
   "cell_type": "markdown",
   "metadata": {},
   "source": [
    "# Training of model"
   ]
  },
  {
   "cell_type": "code",
   "execution_count": 13,
   "metadata": {},
   "outputs": [
    {
     "name": "stdout",
     "output_type": "stream",
     "text": [
      "WARNING:tensorflow:From C:\\Users\\Sakib\\Anaconda3\\envs\\Tensorflow\\lib\\site-packages\\keras\\backend\\tensorflow_backend.py:3445: calling dropout (from tensorflow.python.ops.nn_ops) with keep_prob is deprecated and will be removed in a future version.\n",
      "Instructions for updating:\n",
      "Please use `rate` instead of `keep_prob`. Rate should be set to `rate = 1 - keep_prob`.\n",
      "WARNING:tensorflow:From C:\\Users\\Sakib\\Anaconda3\\envs\\Tensorflow\\lib\\site-packages\\tensorflow\\python\\ops\\math_ops.py:3066: to_int32 (from tensorflow.python.ops.math_ops) is deprecated and will be removed in a future version.\n",
      "Instructions for updating:\n",
      "Use tf.cast instead.\n"
     ]
    },
    {
     "name": "stderr",
     "output_type": "stream",
     "text": [
      "C:\\Users\\Sakib\\Anaconda3\\envs\\Tensorflow\\lib\\site-packages\\keras\\activations.py:211: UserWarning: Do not pass a layer instance (such as LeakyReLU) as the activation argument of another layer. Instead, advanced activation layers should be used just like any other layer in a model.\n",
      "  identifier=identifier.__class__.__name__))\n"
     ]
    },
    {
     "name": "stdout",
     "output_type": "stream",
     "text": [
      "Train on 18826 samples, validate on 638 samples\n",
      "Epoch 1/16\n",
      "18826/18826 [==============================] - 4s 233us/step - loss: 0.7879 - acc: 0.7622 - val_loss: 0.2240 - val_acc: 0.9514\n",
      "Epoch 2/16\n",
      "18826/18826 [==============================] - 3s 179us/step - loss: 0.2922 - acc: 0.9153 - val_loss: 0.1705 - val_acc: 0.9624\n",
      "Epoch 3/16\n",
      "18826/18826 [==============================] - 3s 176us/step - loss: 0.2096 - acc: 0.9385 - val_loss: 0.1329 - val_acc: 0.9687\n",
      "Epoch 4/16\n",
      "18826/18826 [==============================] - 3s 175us/step - loss: 0.1694 - acc: 0.9499 - val_loss: 0.1247 - val_acc: 0.9687\n",
      "Epoch 5/16\n",
      "18826/18826 [==============================] - 3s 177us/step - loss: 0.1500 - acc: 0.9543 - val_loss: 0.1390 - val_acc: 0.9639\n",
      "Epoch 6/16\n",
      "18826/18826 [==============================] - 3s 176us/step - loss: 0.1319 - acc: 0.9589 - val_loss: 0.1211 - val_acc: 0.9687\n",
      "Epoch 7/16\n",
      "18826/18826 [==============================] - 3s 177us/step - loss: 0.1240 - acc: 0.9610 - val_loss: 0.1308 - val_acc: 0.9655\n",
      "Epoch 8/16\n",
      "18826/18826 [==============================] - 3s 177us/step - loss: 0.1139 - acc: 0.9649 - val_loss: 0.1171 - val_acc: 0.9687\n",
      "Epoch 9/16\n",
      "18826/18826 [==============================] - 3s 175us/step - loss: 0.1089 - acc: 0.9679 - val_loss: 0.1240 - val_acc: 0.9687\n",
      "Epoch 10/16\n",
      "18826/18826 [==============================] - 3s 175us/step - loss: 0.0983 - acc: 0.9688 - val_loss: 0.1116 - val_acc: 0.9781\n",
      "Epoch 11/16\n",
      "18826/18826 [==============================] - 3s 178us/step - loss: 0.0952 - acc: 0.9702 - val_loss: 0.1233 - val_acc: 0.9718\n",
      "Epoch 12/16\n",
      "18826/18826 [==============================] - 3s 178us/step - loss: 0.0944 - acc: 0.9704 - val_loss: 0.1089 - val_acc: 0.9781\n",
      "Epoch 13/16\n",
      "18826/18826 [==============================] - 3s 175us/step - loss: 0.0921 - acc: 0.9716 - val_loss: 0.1162 - val_acc: 0.9749\n",
      "Epoch 14/16\n",
      "18826/18826 [==============================] - 3s 180us/step - loss: 0.0857 - acc: 0.9745 - val_loss: 0.1214 - val_acc: 0.9702\n",
      "Epoch 15/16\n",
      "18826/18826 [==============================] - 3s 180us/step - loss: 0.0832 - acc: 0.9754 - val_loss: 0.1131 - val_acc: 0.9749\n",
      "Epoch 16/16\n",
      "18826/18826 [==============================] - 3s 181us/step - loss: 0.0769 - acc: 0.9763 - val_loss: 0.1061 - val_acc: 0.9781\n",
      "638/638 [==============================] - 0s 128us/step\n",
      "[INFO] accuracy: 97.81%\n",
      "[INFO] Loss: 0.10609206638910565\n",
      "Time:  0:00:54.973020\n"
     ]
    }
   ],
   "source": [
    "#This is the best model we found. For additional models, check out I_notebook.ipynb\n",
    "from keras.layers.advanced_activations import LeakyReLU\n",
    "LR = LeakyReLU(alpha=0.3)\n",
    "LR.__name__ = 'relu'\n",
    "start = datetime.datetime.now()\n",
    "model = Sequential()  \n",
    "model.add(Flatten(input_shape=train_data.shape[1:]))  \n",
    "model.add(Dense(100, activation=LR))  \n",
    "model.add(Dropout(0.5))  \n",
    "model.add(Dense(50, activation=LR))  \n",
    "model.add(Dropout(0.3)) \n",
    "model.add(Dense(num_classes, activation='softmax'))  \n",
    "\n",
    "model.compile(loss='categorical_crossentropy',\n",
    "              optimizer=optimizers.RMSprop(lr=1e-4),\n",
    "              metrics=['acc'])  \n",
    "\n",
    "history = model.fit(train_data, train_labels,  \n",
    "      epochs=16,\n",
    "      batch_size=batch_size,  \n",
    "      validation_data=(validation_data, validation_labels))  \n",
    "\n",
    "model.save_weights(top_model_weights_path)  \n",
    "\n",
    "(eval_loss, eval_accuracy) = model.evaluate(  \n",
    " validation_data, validation_labels, batch_size=batch_size, verbose=1)\n",
    "\n",
    "print(\"[INFO] accuracy: {:.2f}%\".format(eval_accuracy * 100))  \n",
    "print(\"[INFO] Loss: {}\".format(eval_loss))  \n",
    "end= datetime.datetime.now()\n",
    "elapsed= end-start\n",
    "print ('Time: ', elapsed)"
   ]
  },
  {
   "cell_type": "code",
   "execution_count": 14,
   "metadata": {},
   "outputs": [
    {
     "name": "stdout",
     "output_type": "stream",
     "text": [
      "_________________________________________________________________\n",
      "Layer (type)                 Output Shape              Param #   \n",
      "=================================================================\n",
      "flatten_1 (Flatten)          (None, 25088)             0         \n",
      "_________________________________________________________________\n",
      "dense_1 (Dense)              (None, 100)               2508900   \n",
      "_________________________________________________________________\n",
      "dropout_1 (Dropout)          (None, 100)               0         \n",
      "_________________________________________________________________\n",
      "dense_2 (Dense)              (None, 50)                5050      \n",
      "_________________________________________________________________\n",
      "dropout_2 (Dropout)          (None, 50)                0         \n",
      "_________________________________________________________________\n",
      "dense_3 (Dense)              (None, 10)                510       \n",
      "=================================================================\n",
      "Total params: 2,514,460\n",
      "Trainable params: 2,514,460\n",
      "Non-trainable params: 0\n",
      "_________________________________________________________________\n"
     ]
    }
   ],
   "source": [
    "#Model summary\n",
    "model.summary()"
   ]
  },
  {
   "cell_type": "code",
   "execution_count": 15,
   "metadata": {},
   "outputs": [
    {
     "data": {
      "image/png": "[encoded data removed]",
      "text/plain": [
       "<Figure size 432x288 with 1 Axes>"
      ]
     },
     "metadata": {
      "needs_background": "light"
     },
     "output_type": "display_data"
    },
    {
     "data": {
      "image/png": "[encoded data removed]",
      "text/plain": [
       "<Figure size 432x288 with 1 Axes>"
      ]
     },
     "metadata": {
      "needs_background": "light"
     },
     "output_type": "display_data"
    }
   ],
   "source": [
    "#Graphing our training and validation\n",
    "acc = history.history['acc']\n",
    "val_acc = history.history['val_acc']\n",
    "loss = history.history['loss']\n",
    "val_loss = history.history['val_loss']\n",
    "epochs = range(len(acc))\n",
    "plt.plot(epochs, acc, 'r', label='Training acc')\n",
    "plt.plot(epochs, val_acc, 'b', label='Validation acc')\n",
    "plt.title('Training and validation accuracy')\n",
    "plt.ylabel('accuracy')  \n",
    "plt.xlabel('epoch')\n",
    "plt.legend()\n",
    "plt.figure()\n",
    "plt.plot(epochs, loss, 'r', label='Training loss')\n",
    "plt.plot(epochs, val_loss, 'b', label='Validation loss')\n",
    "plt.title('Training and validation loss')\n",
    "plt.ylabel('loss')  \n",
    "plt.xlabel('epoch')\n",
    "plt.legend()\n",
    "plt.show()"
   ]
  },
  {
   "cell_type": "markdown",
   "metadata": {},
   "source": [
    "## Model Evaluation on Testing Set"
   ]
  },
  {
   "cell_type": "code",
   "execution_count": 16,
   "metadata": {
    "scrolled": true
   },
   "outputs": [
    {
     "name": "stdout",
     "output_type": "stream",
     "text": [
      "264/264 [==============================] - 0s 170us/step\n"
     ]
    },
    {
     "data": {
      "text/plain": [
       "[0.06643314386945515, 0.9734848484848485]"
      ]
     },
     "execution_count": 16,
     "metadata": {},
     "output_type": "execute_result"
    }
   ],
   "source": [
    "model.evaluate(test_data, test_labels)"
   ]
  },
  {
   "cell_type": "markdown",
   "metadata": {},
   "source": [
    "## Classification metrics and Confusion Matrix"
   ]
  },
  {
   "cell_type": "markdown",
   "metadata": {},
   "source": [
    "### Classification Metrics"
   ]
  },
  {
   "cell_type": "code",
   "execution_count": 18,
   "metadata": {},
   "outputs": [
    {
     "name": "stdout",
     "output_type": "stream",
     "text": [
      "test data [[[[0.14828339 0.         0.         ... 0.         0.73502684\n",
      "    0.        ]\n",
      "   [0.07818928 0.         0.         ... 0.         0.6785727\n",
      "    0.        ]\n",
      "   [0.         0.         0.         ... 0.         0.7081174\n",
      "    0.        ]\n",
      "   ...\n",
      "   [0.         0.         0.         ... 0.         0.70976907\n",
      "    0.        ]\n",
      "   [0.03267553 0.         0.         ... 0.         0.77027166\n",
      "    0.        ]\n",
      "   [0.14074472 0.         0.         ... 0.         0.8233284\n",
      "    0.        ]]\n",
      "\n",
      "  [[0.4462805  0.         0.         ... 0.         0.5144168\n",
      "    0.        ]\n",
      "   [0.40695798 0.         0.         ... 0.         0.55653715\n",
      "    0.        ]\n",
      "   [0.2543795  0.         0.43632835 ... 0.         0.7577369\n",
      "    0.        ]\n",
      "   ...\n",
      "   [1.1090521  0.         0.07698482 ... 0.         0.87561\n",
      "    0.        ]\n",
      "   [0.34118268 0.         0.         ... 0.         0.6929612\n",
      "    0.        ]\n",
      "   [0.24402753 0.         0.         ... 0.         0.71749514\n",
      "    0.        ]]\n",
      "\n",
      "  [[0.23521587 0.         0.         ... 0.         0.65495634\n",
      "    0.        ]\n",
      "   [0.0832154  0.         0.4171931  ... 0.         0.63384527\n",
      "    0.        ]\n",
      "   [0.9047376  0.         1.0114499  ... 0.         0.00229239\n",
      "    0.        ]\n",
      "   ...\n",
      "   [1.1747761  0.         0.08825809 ... 0.         0.7957277\n",
      "    0.        ]\n",
      "   [0.15328215 0.         0.         ... 0.         0.7352824\n",
      "    0.        ]\n",
      "   [0.01929469 0.         0.         ... 0.         0.5816083\n",
      "    0.        ]]\n",
      "\n",
      "  ...\n",
      "\n",
      "  [[0.06087911 0.         0.         ... 0.         0.49471503\n",
      "    0.        ]\n",
      "   [0.         0.         0.         ... 0.         0.26989836\n",
      "    0.        ]\n",
      "   [0.12193322 0.         0.         ... 0.         0.\n",
      "    0.        ]\n",
      "   ...\n",
      "   [0.4081023  0.         0.         ... 0.         0.7721244\n",
      "    0.        ]\n",
      "   [0.         0.         0.         ... 0.         0.69080895\n",
      "    0.        ]\n",
      "   [0.00655121 0.         0.         ... 0.         0.587118\n",
      "    0.        ]]\n",
      "\n",
      "  [[0.         0.         0.         ... 0.         0.6040895\n",
      "    0.        ]\n",
      "   [0.         0.         0.         ... 0.         0.63887656\n",
      "    0.        ]\n",
      "   [0.         0.         0.         ... 0.         0.7435833\n",
      "    0.        ]\n",
      "   ...\n",
      "   [0.         0.         0.         ... 0.         0.7946458\n",
      "    0.        ]\n",
      "   [0.         0.         0.         ... 0.         0.64957803\n",
      "    0.        ]\n",
      "   [0.06331776 0.         0.         ... 0.         0.5364525\n",
      "    0.        ]]\n",
      "\n",
      "  [[0.         0.         0.06866294 ... 0.         0.7513124\n",
      "    0.        ]\n",
      "   [0.         0.         0.         ... 0.         0.60755485\n",
      "    0.        ]\n",
      "   [0.         0.         0.         ... 0.         0.60002095\n",
      "    0.        ]\n",
      "   ...\n",
      "   [0.         0.         0.         ... 0.         0.6327525\n",
      "    0.        ]\n",
      "   [0.         0.         0.         ... 0.         0.6079548\n",
      "    0.        ]\n",
      "   [0.03452656 0.         0.04809231 ... 0.         0.5332192\n",
      "    0.        ]]]\n",
      "\n",
      "\n",
      " [[[0.14031723 0.         0.         ... 0.         0.7387528\n",
      "    0.        ]\n",
      "   [0.07710868 0.         0.         ... 0.         0.72323525\n",
      "    0.        ]\n",
      "   [0.         0.         0.         ... 0.         0.74062467\n",
      "    0.        ]\n",
      "   ...\n",
      "   [0.         0.         0.         ... 0.         0.7566317\n",
      "    0.        ]\n",
      "   [0.         0.         0.         ... 0.         0.7343574\n",
      "    0.        ]\n",
      "   [0.13037033 0.         0.         ... 0.         0.81088334\n",
      "    0.        ]]\n",
      "\n",
      "  [[0.11681918 0.         0.         ... 0.         0.5685555\n",
      "    0.        ]\n",
      "   [0.12331578 0.         0.         ... 0.         0.6437176\n",
      "    0.        ]\n",
      "   [0.17321849 0.         0.         ... 0.         0.73422205\n",
      "    0.        ]\n",
      "   ...\n",
      "   [0.         0.         0.         ... 0.         0.7973378\n",
      "    0.        ]\n",
      "   [0.4367882  0.         0.         ... 0.         0.82407445\n",
      "    0.        ]\n",
      "   [0.66467035 0.         0.         ... 0.         0.84591067\n",
      "    0.        ]]\n",
      "\n",
      "  [[0.         0.         0.         ... 0.         0.5750125\n",
      "    0.        ]\n",
      "   [0.         0.         0.         ... 0.         0.6670141\n",
      "    0.        ]\n",
      "   [0.         0.         0.21312642 ... 0.         0.7566318\n",
      "    0.        ]\n",
      "   ...\n",
      "   [0.13023531 0.         0.03626198 ... 0.         0.\n",
      "    0.        ]\n",
      "   [0.52038324 0.         0.         ... 0.         0.61779547\n",
      "    0.        ]\n",
      "   [0.70877147 0.         0.         ... 0.         0.7837258\n",
      "    0.        ]]\n",
      "\n",
      "  ...\n",
      "\n",
      "  [[0.         0.         0.         ... 0.         0.58263224\n",
      "    0.        ]\n",
      "   [0.         0.         0.         ... 0.         0.64989954\n",
      "    0.        ]\n",
      "   [0.         0.         0.         ... 0.         0.6510724\n",
      "    0.        ]\n",
      "   ...\n",
      "   [0.12936491 0.         0.         ... 0.         0.12784159\n",
      "    0.        ]\n",
      "   [0.5597373  0.         0.         ... 0.         0.5762654\n",
      "    0.        ]\n",
      "   [0.49408412 0.         0.         ... 0.         0.82729137\n",
      "    0.        ]]\n",
      "\n",
      "  [[0.         0.         0.         ... 0.         0.6199702\n",
      "    0.        ]\n",
      "   [0.         0.         0.         ... 0.         0.61039454\n",
      "    0.        ]\n",
      "   [0.         0.         0.         ... 0.         0.67466015\n",
      "    0.        ]\n",
      "   ...\n",
      "   [0.         0.         0.         ... 0.         0.73129433\n",
      "    0.        ]\n",
      "   [0.         0.         0.         ... 0.         0.74766093\n",
      "    0.        ]\n",
      "   [0.04713932 0.         0.         ... 0.         0.7348168\n",
      "    0.        ]]\n",
      "\n",
      "  [[0.         0.         0.06830007 ... 0.         0.76918733\n",
      "    0.        ]\n",
      "   [0.         0.         0.         ... 0.         0.61832714\n",
      "    0.        ]\n",
      "   [0.         0.         0.         ... 0.         0.59752774\n",
      "    0.        ]\n",
      "   ...\n",
      "   [0.         0.         0.01811665 ... 0.         0.5923385\n",
      "    0.        ]\n",
      "   [0.         0.         0.         ... 0.         0.571907\n",
      "    0.        ]\n",
      "   [0.01970109 0.         0.05874389 ... 0.         0.530203\n",
      "    0.        ]]]\n",
      "\n",
      "\n",
      " [[[0.11168528 0.         0.         ... 0.         0.71658534\n",
      "    0.        ]\n",
      "   [0.04458924 0.         0.         ... 0.         0.6894439\n",
      "    0.        ]\n",
      "   [0.         0.         0.         ... 0.         0.70530885\n",
      "    0.        ]\n",
      "   ...\n",
      "   [0.         0.         0.         ... 0.         0.70693165\n",
      "    0.        ]\n",
      "   [0.02143826 0.         0.         ... 0.         0.7400543\n",
      "    0.        ]\n",
      "   [0.13963096 0.         0.         ... 0.         0.7923337\n",
      "    0.        ]]\n",
      "\n",
      "  [[0.28985536 0.         0.         ... 0.         0.54458624\n",
      "    0.        ]\n",
      "   [0.39416346 0.         0.         ... 0.         0.5756711\n",
      "    0.        ]\n",
      "   [0.2829796  0.         0.2743882  ... 0.         0.49826056\n",
      "    0.        ]\n",
      "   ...\n",
      "   [0.67244625 0.         0.         ... 0.         0.80678725\n",
      "    0.        ]\n",
      "   [0.24402788 0.         0.         ... 0.         0.63092005\n",
      "    0.        ]\n",
      "   [0.19616103 0.         0.         ... 0.         0.7016853\n",
      "    0.        ]]\n",
      "\n",
      "  [[0.16691627 0.         0.         ... 0.         0.6233992\n",
      "    0.        ]\n",
      "   [0.06094992 0.         0.7033353  ... 0.         0.68568635\n",
      "    0.        ]\n",
      "   [0.5962024  0.         0.9262269  ... 0.         0.\n",
      "    0.        ]\n",
      "   ...\n",
      "   [0.64994764 0.         0.         ... 0.         0.82025295\n",
      "    0.        ]\n",
      "   [0.09917647 0.         0.         ... 0.         0.70297396\n",
      "    0.        ]\n",
      "   [0.0034973  0.         0.         ... 0.         0.58069694\n",
      "    0.        ]]\n",
      "\n",
      "  ...\n",
      "\n",
      "  [[0.         0.         0.         ... 0.         0.45269883\n",
      "    0.        ]\n",
      "   [0.         0.         0.         ... 0.         0.34262735\n",
      "    0.        ]\n",
      "   [0.05385756 0.         0.         ... 0.         0.\n",
      "    0.        ]\n",
      "   ...\n",
      "   [0.62548476 0.         0.         ... 0.         0.62182695\n",
      "    0.        ]\n",
      "   [0.05120835 0.         0.         ... 0.         0.66108423\n",
      "    0.        ]\n",
      "   [0.         0.         0.         ... 0.         0.58479214\n",
      "    0.        ]]\n",
      "\n",
      "  [[0.         0.         0.         ... 0.         0.5857248\n",
      "    0.        ]\n",
      "   [0.         0.         0.         ... 0.         0.64687407\n",
      "    0.        ]\n",
      "   [0.         0.         0.         ... 0.         0.7045516\n",
      "    0.        ]\n",
      "   ...\n",
      "   [0.         0.         0.         ... 0.         0.80720437\n",
      "    0.        ]\n",
      "   [0.         0.         0.         ... 0.         0.63282835\n",
      "    0.        ]\n",
      "   [0.02668236 0.         0.         ... 0.         0.5407546\n",
      "    0.        ]]\n",
      "\n",
      "  [[0.         0.         0.07062173 ... 0.         0.712891\n",
      "    0.        ]\n",
      "   [0.         0.         0.         ... 0.         0.5901697\n",
      "    0.        ]\n",
      "   [0.         0.         0.         ... 0.         0.6050839\n",
      "    0.        ]\n",
      "   ...\n",
      "   [0.         0.         0.         ... 0.         0.61983955\n",
      "    0.        ]\n",
      "   [0.         0.         0.         ... 0.         0.59303844\n",
      "    0.        ]\n",
      "   [0.01413253 0.         0.0673247  ... 0.         0.5272746\n",
      "    0.        ]]]\n",
      "\n",
      "\n",
      " ...\n",
      "\n",
      "\n",
      " [[[0.13030902 0.         0.         ... 0.         0.7358389\n",
      "    0.        ]\n",
      "   [0.11519018 0.         0.         ... 0.         0.7679306\n",
      "    0.        ]\n",
      "   [0.10301859 0.         0.         ... 0.         0.82112926\n",
      "    0.        ]\n",
      "   ...\n",
      "   [0.11696125 0.         0.         ... 0.         0.7407634\n",
      "    0.        ]\n",
      "   [0.17287062 0.         0.         ... 0.         0.7656654\n",
      "    0.        ]\n",
      "   [0.1771324  0.         0.         ... 0.         0.8230048\n",
      "    0.        ]]\n",
      "\n",
      "  [[0.25355095 0.         0.         ... 0.         0.55978703\n",
      "    0.        ]\n",
      "   [0.3530767  0.         0.         ... 0.         0.65191376\n",
      "    0.        ]\n",
      "   [0.3912558  0.         0.3720706  ... 0.         0.7714915\n",
      "    0.        ]\n",
      "   ...\n",
      "   [0.06581885 0.         0.31700888 ... 0.         0.80616266\n",
      "    0.        ]\n",
      "   [0.44282353 0.         0.         ... 0.         0.7015774\n",
      "    0.        ]\n",
      "   [0.27795234 0.         0.         ... 0.         0.73819554\n",
      "    0.        ]]\n",
      "\n",
      "  [[0.12294635 0.         0.         ... 0.         0.64823943\n",
      "    0.        ]\n",
      "   [0.01293026 0.         0.         ... 0.         0.68834007\n",
      "    0.        ]\n",
      "   [0.         0.         0.06666255 ... 0.         0.758617\n",
      "    0.        ]\n",
      "   ...\n",
      "   [0.62761354 0.         0.17024627 ... 0.         0.31667468\n",
      "    0.        ]\n",
      "   [0.5792686  0.         0.         ... 0.         0.4806099\n",
      "    0.        ]\n",
      "   [0.07195243 0.         0.         ... 0.         0.60676885\n",
      "    0.        ]]\n",
      "\n",
      "  ...\n",
      "\n",
      "  [[0.         0.         0.         ... 0.         0.5393723\n",
      "    0.        ]\n",
      "   [0.         0.         0.         ... 0.         0.7141509\n",
      "    0.        ]\n",
      "   [0.         0.         0.         ... 0.         0.5354347\n",
      "    0.        ]\n",
      "   ...\n",
      "   [0.13428695 0.         0.         ... 0.         0.5914653\n",
      "    0.        ]\n",
      "   [0.         0.         0.         ... 0.         0.6871587\n",
      "    0.        ]\n",
      "   [0.         0.         0.         ... 0.         0.60675454\n",
      "    0.        ]]\n",
      "\n",
      "  [[0.         0.         0.         ... 0.         0.6325665\n",
      "    0.        ]\n",
      "   [0.         0.         0.         ... 0.         0.65380967\n",
      "    0.        ]\n",
      "   [0.         0.         0.         ... 0.         0.65302044\n",
      "    0.        ]\n",
      "   ...\n",
      "   [0.         0.         0.         ... 0.         0.81327623\n",
      "    0.        ]\n",
      "   [0.         0.         0.         ... 0.         0.65645444\n",
      "    0.        ]\n",
      "   [0.04712719 0.         0.         ... 0.         0.5507396\n",
      "    0.        ]]\n",
      "\n",
      "  [[0.         0.         0.07337001 ... 0.         0.7764337\n",
      "    0.        ]\n",
      "   [0.         0.         0.         ... 0.         0.6332138\n",
      "    0.        ]\n",
      "   [0.         0.         0.         ... 0.         0.62984055\n",
      "    0.        ]\n",
      "   ...\n",
      "   [0.         0.         0.00334543 ... 0.         0.6190522\n",
      "    0.        ]\n",
      "   [0.         0.         0.         ... 0.         0.5916046\n",
      "    0.        ]\n",
      "   [0.0266453  0.         0.06197551 ... 0.         0.50630605\n",
      "    0.        ]]]\n",
      "\n",
      "\n",
      " [[[0.1618503  0.         0.         ... 0.         0.74391055\n",
      "    0.        ]\n",
      "   [0.09355911 0.         0.         ... 0.         0.76773953\n",
      "    0.        ]\n",
      "   [0.02281427 0.         0.         ... 0.         0.7734672\n",
      "    0.        ]\n",
      "   ...\n",
      "   [0.         0.         0.         ... 0.         0.7372941\n",
      "    0.        ]\n",
      "   [0.04243408 0.         0.         ... 0.         0.78623617\n",
      "    0.        ]\n",
      "   [0.16919726 0.         0.         ... 0.         0.8357955\n",
      "    0.        ]]\n",
      "\n",
      "  [[0.13908273 0.         0.         ... 0.         0.56113476\n",
      "    0.        ]\n",
      "   [0.07621403 0.         0.         ... 0.         0.6529397\n",
      "    0.        ]\n",
      "   [0.07150525 0.         0.         ... 0.         0.71710825\n",
      "    0.        ]\n",
      "   ...\n",
      "   [0.03156066 0.         0.         ... 0.         0.7000243\n",
      "    0.        ]\n",
      "   [0.23277248 0.         0.         ... 0.         0.5642375\n",
      "    0.        ]\n",
      "   [0.24713042 0.         0.         ... 0.         0.750888\n",
      "    0.        ]]\n",
      "\n",
      "  [[0.08870934 0.         0.         ... 0.         0.63984895\n",
      "    0.        ]\n",
      "   [0.         0.         0.17545241 ... 0.         0.8197437\n",
      "    0.        ]\n",
      "   [0.02587445 0.         0.21964222 ... 0.17695248 0.712335\n",
      "    0.        ]\n",
      "   ...\n",
      "   [0.2525291  0.         0.         ... 0.         0.81131226\n",
      "    0.        ]\n",
      "   [0.08955483 0.         0.         ... 0.         0.61181617\n",
      "    0.        ]\n",
      "   [0.07343523 0.         0.         ... 0.         0.59958345\n",
      "    0.        ]]\n",
      "\n",
      "  ...\n",
      "\n",
      "  [[0.10327342 0.         0.         ... 0.         0.8148863\n",
      "    0.        ]\n",
      "   [0.         0.         0.         ... 0.         0.94098634\n",
      "    0.        ]\n",
      "   [0.         0.         0.         ... 0.         0.\n",
      "    0.        ]\n",
      "   ...\n",
      "   [0.         0.         0.         ... 0.         0.6998203\n",
      "    0.        ]\n",
      "   [0.         0.         0.         ... 0.         0.7134296\n",
      "    0.        ]\n",
      "   [0.01676799 0.         0.         ... 0.         0.5855298\n",
      "    0.        ]]\n",
      "\n",
      "  [[0.02770212 0.         0.         ... 0.         0.57878214\n",
      "    0.        ]\n",
      "   [0.06569651 0.         0.         ... 0.         0.6343049\n",
      "    0.        ]\n",
      "   [0.06582098 0.         0.         ... 0.         0.37067258\n",
      "    0.        ]\n",
      "   ...\n",
      "   [0.         0.         0.         ... 0.         0.744848\n",
      "    0.        ]\n",
      "   [0.         0.         0.         ... 0.         0.66200715\n",
      "    0.        ]\n",
      "   [0.07160365 0.         0.         ... 0.         0.5381503\n",
      "    0.        ]]\n",
      "\n",
      "  [[0.         0.         0.08330694 ... 0.         0.7620672\n",
      "    0.        ]\n",
      "   [0.         0.         0.00334859 ... 0.         0.6310426\n",
      "    0.        ]\n",
      "   [0.         0.         0.         ... 0.         0.59843355\n",
      "    0.        ]\n",
      "   ...\n",
      "   [0.         0.         0.02216369 ... 0.         0.59958965\n",
      "    0.        ]\n",
      "   [0.         0.         0.         ... 0.         0.5833419\n",
      "    0.        ]\n",
      "   [0.05185372 0.         0.05531669 ... 0.         0.5480782\n",
      "    0.        ]]]\n",
      "\n",
      "\n",
      " [[[0.17861632 0.         0.         ... 0.         0.72943336\n",
      "    0.        ]\n",
      "   [0.0777287  0.         0.         ... 0.         0.7612559\n",
      "    0.        ]\n",
      "   [0.         0.         0.         ... 0.08144794 0.919497\n",
      "    0.        ]\n",
      "   ...\n",
      "   [0.         0.         0.         ... 0.         0.80773103\n",
      "    0.        ]\n",
      "   [0.03079905 0.         0.         ... 0.         0.7717174\n",
      "    0.        ]\n",
      "   [0.1285299  0.         0.         ... 0.         0.82502097\n",
      "    0.        ]]\n",
      "\n",
      "  [[0.3848742  0.         0.         ... 0.         0.636446\n",
      "    0.        ]\n",
      "   [0.6385684  0.         0.         ... 0.01648975 0.7998278\n",
      "    0.        ]\n",
      "   [1.1309192  0.         0.36830536 ... 0.08920003 0.6098285\n",
      "    0.        ]\n",
      "   ...\n",
      "   [0.8625427  0.         0.         ... 0.         0.79986274\n",
      "    0.        ]\n",
      "   [0.38681448 0.         0.         ... 0.         0.64773905\n",
      "    0.        ]\n",
      "   [0.25167257 0.         0.         ... 0.         0.7371045\n",
      "    0.        ]]\n",
      "\n",
      "  [[0.         0.         0.         ... 0.         0.690414\n",
      "    0.        ]\n",
      "   [0.30263492 0.         0.19644827 ... 0.         0.81881833\n",
      "    0.        ]\n",
      "   [1.0355732  0.         0.34312928 ... 0.         0.33590153\n",
      "    0.        ]\n",
      "   ...\n",
      "   [0.73209745 0.         0.03287464 ... 0.         0.51756567\n",
      "    0.        ]\n",
      "   [0.26767403 0.         0.         ... 0.         0.57923114\n",
      "    0.        ]\n",
      "   [0.00274023 0.         0.         ... 0.         0.59652585\n",
      "    0.        ]]\n",
      "\n",
      "  ...\n",
      "\n",
      "  [[0.         0.         0.         ... 0.         0.70004725\n",
      "    0.        ]\n",
      "   [0.         0.         0.         ... 0.         0.28934017\n",
      "    0.        ]\n",
      "   [0.         0.         0.         ... 0.         0.49419448\n",
      "    0.        ]\n",
      "   ...\n",
      "   [0.         0.         0.         ... 0.         0.6913933\n",
      "    0.        ]\n",
      "   [0.         0.         0.         ... 0.         0.6413777\n",
      "    0.        ]\n",
      "   [0.01290371 0.         0.         ... 0.         0.58954024\n",
      "    0.        ]]\n",
      "\n",
      "  [[0.         0.         0.         ... 0.         0.61652315\n",
      "    0.        ]\n",
      "   [0.         0.         0.         ... 0.         0.5633268\n",
      "    0.        ]\n",
      "   [0.         0.         0.         ... 0.         0.6956863\n",
      "    0.        ]\n",
      "   ...\n",
      "   [0.         0.         0.         ... 0.         0.66025895\n",
      "    0.        ]\n",
      "   [0.         0.         0.         ... 0.         0.5957012\n",
      "    0.        ]\n",
      "   [0.07752721 0.         0.         ... 0.         0.5373707\n",
      "    0.        ]]\n",
      "\n",
      "  [[0.         0.         0.0546062  ... 0.         0.76494986\n",
      "    0.        ]\n",
      "   [0.         0.         0.         ... 0.         0.61161196\n",
      "    0.        ]\n",
      "   [0.         0.         0.         ... 0.         0.6118304\n",
      "    0.        ]\n",
      "   ...\n",
      "   [0.         0.         0.00788987 ... 0.         0.63004434\n",
      "    0.        ]\n",
      "   [0.         0.         0.         ... 0.         0.59775597\n",
      "    0.        ]\n",
      "   [0.04433495 0.         0.055071   ... 0.         0.5198208\n",
      "    0.        ]]]]\n",
      "rounded test_labels [[1. 0. 0. 0. 0. 0. 0. 0. 0. 0.]\n",
      " [1. 0. 0. 0. 0. 0. 0. 0. 0. 0.]\n",
      " [1. 0. 0. 0. 0. 0. 0. 0. 0. 0.]\n",
      " [1. 0. 0. 0. 0. 0. 0. 0. 0. 0.]\n",
      " [1. 0. 0. 0. 0. 0. 0. 0. 0. 0.]\n",
      " [1. 0. 0. 0. 0. 0. 0. 0. 0. 0.]\n",
      " [0. 1. 0. 0. 0. 0. 0. 0. 0. 0.]\n",
      " [0. 1. 0. 0. 0. 0. 0. 0. 0. 0.]\n",
      " [0. 1. 0. 0. 0. 0. 0. 0. 0. 0.]\n",
      " [0. 1. 0. 0. 0. 0. 0. 0. 0. 0.]\n",
      " [0. 1. 0. 0. 0. 0. 0. 0. 0. 0.]\n",
      " [0. 1. 0. 0. 0. 0. 0. 0. 0. 0.]\n",
      " [0. 0. 1. 0. 0. 0. 0. 0. 0. 0.]\n",
      " [0. 0. 1. 0. 0. 0. 0. 0. 0. 0.]\n",
      " [0. 0. 1. 0. 0. 0. 0. 0. 0. 0.]\n",
      " [0. 0. 1. 0. 0. 0. 0. 0. 0. 0.]\n",
      " [0. 0. 1. 0. 0. 0. 0. 0. 0. 0.]\n",
      " [0. 0. 1. 0. 0. 0. 0. 0. 0. 0.]\n",
      " [0. 0. 0. 1. 0. 0. 0. 0. 0. 0.]\n",
      " [0. 0. 0. 1. 0. 0. 0. 0. 0. 0.]\n",
      " [0. 0. 0. 1. 0. 0. 0. 0. 0. 0.]\n",
      " [0. 0. 0. 1. 0. 0. 0. 0. 0. 0.]\n",
      " [0. 0. 0. 1. 0. 0. 0. 0. 0. 0.]\n",
      " [0. 0. 0. 1. 0. 0. 0. 0. 0. 0.]\n",
      " [0. 0. 0. 0. 1. 0. 0. 0. 0. 0.]\n",
      " [0. 0. 0. 0. 1. 0. 0. 0. 0. 0.]\n",
      " [0. 0. 0. 0. 1. 0. 0. 0. 0. 0.]\n",
      " [0. 0. 0. 0. 1. 0. 0. 0. 0. 0.]\n",
      " [0. 0. 0. 0. 1. 0. 0. 0. 0. 0.]\n",
      " [0. 0. 0. 0. 1. 0. 0. 0. 0. 0.]\n",
      " [0. 0. 0. 0. 0. 1. 0. 0. 0. 0.]\n",
      " [0. 0. 0. 0. 0. 1. 0. 0. 0. 0.]\n",
      " [0. 0. 0. 0. 0. 1. 0. 0. 0. 0.]\n",
      " [0. 0. 0. 0. 0. 1. 0. 0. 0. 0.]\n",
      " [0. 0. 0. 0. 0. 1. 0. 0. 0. 0.]\n",
      " [0. 0. 0. 0. 0. 1. 0. 0. 0. 0.]\n",
      " [0. 0. 0. 0. 0. 0. 1. 0. 0. 0.]\n",
      " [0. 0. 0. 0. 0. 0. 1. 0. 0. 0.]\n",
      " [0. 0. 0. 0. 0. 0. 1. 0. 0. 0.]\n",
      " [0. 0. 0. 0. 0. 0. 1. 0. 0. 0.]\n",
      " [0. 0. 0. 0. 0. 0. 1. 0. 0. 0.]\n",
      " [0. 0. 0. 0. 0. 0. 1. 0. 0. 0.]\n",
      " [0. 0. 0. 0. 0. 0. 0. 1. 0. 0.]\n",
      " [0. 0. 0. 0. 0. 0. 0. 1. 0. 0.]\n",
      " [0. 0. 0. 0. 0. 0. 0. 1. 0. 0.]\n",
      " [0. 0. 0. 0. 0. 0. 0. 1. 0. 0.]\n",
      " [0. 0. 0. 0. 0. 0. 0. 1. 0. 0.]\n",
      " [0. 0. 0. 0. 0. 0. 0. 1. 0. 0.]\n",
      " [0. 0. 0. 0. 0. 0. 0. 0. 1. 0.]\n",
      " [0. 0. 0. 0. 0. 0. 0. 0. 1. 0.]\n",
      " [0. 0. 0. 0. 0. 0. 0. 0. 1. 0.]\n",
      " [0. 0. 0. 0. 0. 0. 0. 0. 1. 0.]\n",
      " [0. 0. 0. 0. 0. 0. 0. 0. 1. 0.]\n",
      " [0. 0. 0. 0. 0. 0. 0. 0. 1. 0.]\n",
      " [0. 0. 0. 0. 0. 0. 0. 0. 0. 1.]\n",
      " [0. 0. 0. 0. 0. 0. 0. 0. 0. 1.]\n",
      " [0. 0. 0. 0. 0. 0. 0. 0. 0. 1.]\n",
      " [0. 0. 0. 0. 0. 0. 0. 0. 0. 1.]\n",
      " [0. 0. 0. 0. 0. 0. 0. 0. 0. 1.]\n",
      " [0. 0. 0. 0. 0. 0. 0. 0. 0. 1.]]\n"
     ]
    }
   ],
   "source": [
    "print('test data', test_data)\n",
    "preds = np.round(model.predict(test_data),0) \n",
    "#to fit them into classification metrics and confusion metrics, some additional modificaitions are required\n",
    "print('rounded test_labels', preds)"
   ]
  },
  {
   "cell_type": "code",
   "execution_count": 19,
   "metadata": {
    "scrolled": false
   },
   "outputs": [
    {
     "name": "stdout",
     "output_type": "stream",
     "text": [
      "              precision    recall  f1-score   support\n",
      "\n",
      "           0       1.00      1.00      1.00         6\n",
      "           1       1.00      1.00      1.00         6\n",
      "           2       1.00      1.00      1.00         6\n",
      "           3       1.00      1.00      1.00         6\n",
      "           4       1.00      1.00      1.00         6\n",
      "           5       1.00      1.00      1.00         6\n",
      "           6       1.00      1.00      1.00         6\n",
      "           7       1.00      1.00      1.00         6\n",
      "           8       1.00      1.00      1.00         6\n",
      "           9       1.00      1.00      1.00         6\n",
      "\n",
      "   micro avg       1.00      1.00      1.00        60\n",
      "   macro avg       1.00      1.00      1.00        60\n",
      "weighted avg       1.00      1.00      1.00        60\n",
      " samples avg       1.00      1.00      1.00        60\n",
      "\n"
     ]
    }
   ],
   "source": [
    "animals = ['0', '1','2','3','4','5','6','7','8','9']\n",
    "classification_metrics = metrics.classification_report(test_labels, preds, target_names=animals )\n",
    "print(classification_metrics)"
   ]
  },
  {
   "cell_type": "markdown",
   "metadata": {},
   "source": [
    "### Confusion Matrix"
   ]
  },
  {
   "cell_type": "code",
   "execution_count": 20,
   "metadata": {},
   "outputs": [],
   "source": [
    "#Since our data is in dummy format we put the numpy array into a dataframe and call idxmax axis=1 to return the column\n",
    "# label of the maximum value thus creating a categorical variable\n",
    "#Basically, flipping a dummy variable back to it's categorical variable\n",
    "categorical_test_labels = pd.DataFrame(test_labels).idxmax(axis=1)\n",
    "categorical_preds = pd.DataFrame(preds).idxmax(axis=1)"
   ]
  },
  {
   "cell_type": "code",
   "execution_count": 21,
   "metadata": {},
   "outputs": [],
   "source": [
    "confusion_matrix= confusion_matrix(categorical_test_labels, categorical_preds)"
   ]
  },
  {
   "cell_type": "code",
   "execution_count": 22,
   "metadata": {},
   "outputs": [],
   "source": [
    "#To get better visual of the confusion matrix:\n",
    "def plot_confusion_matrix(cm, classes,\n",
    "             normalize=False,\n",
    "             title='Confusion matrix',\n",
    "             cmap=plt.cm.Blues):\n",
    "    #Add Normalization Option\n",
    "    '''prints pretty confusion metric with normalization option '''\n",
    "    if normalize:\n",
    "        cm = cm.astype('float') / cm.sum(axis=1)[:, np.newaxis]\n",
    "        print(\"Normalized confusion matrix\")\n",
    "    else:\n",
    "        print('Confusion matrix, without normalization')\n",
    "#         print()\n",
    "    \n",
    "#     print(cm)\n",
    "    \n",
    "    plt.imshow(cm, interpolation='nearest', cmap=cmap)\n",
    "    plt.title(title)\n",
    "    plt.colorbar()\n",
    "    tick_marks = np.arange(len(classes)+1)\n",
    "    plt.xticks(tick_marks, classes, rotation=45)\n",
    "    plt.yticks(tick_marks, classes)\n",
    "    \n",
    "    fmt = '.2f' if normalize else 'd'\n",
    "    thresh = cm.max() / 2.\n",
    "    for i, j in itertools.product(range(cm.shape[0]), range(cm.shape[1])):\n",
    "        plt.text(j, i, format(cm[i, j], fmt), horizontalalignment=\"center\", color=\"white\" if cm[i, j] > thresh else \"black\")\n",
    "    \n",
    "    plt.tight_layout()\n",
    "    plt.ylabel('True label')\n",
    "    plt.xlabel('Predicted label')\n"
   ]
  },
  {
   "cell_type": "code",
   "execution_count": 23,
   "metadata": {},
   "outputs": [
    {
     "name": "stdout",
     "output_type": "stream",
     "text": [
      "Confusion matrix, without normalization\n"
     ]
    },
    {
     "data": {
      "image/png": "[encoded data removed]",
      "text/plain": [
       "<Figure size 432x288 with 2 Axes>"
      ]
     },
     "metadata": {
      "needs_background": "light"
     },
     "output_type": "display_data"
    }
   ],
   "source": [
    "plot_confusion_matrix(confusion_matrix,['0', '1','2','3','4','5','6','7','8','9'])"
   ]
  },
  {
   "cell_type": "code",
   "execution_count": 24,
   "metadata": {},
   "outputs": [
    {
     "name": "stdout",
     "output_type": "stream",
     "text": [
      "Normalized confusion matrix\n"
     ]
    },
    {
     "data": {
      "image/png": "[encoded data removed]",
      "text/plain": [
       "<Figure size 432x288 with 2 Axes>"
      ]
     },
     "metadata": {
      "needs_background": "light"
     },
     "output_type": "display_data"
    }
   ],
   "source": [
    "#Those numbers are all over the place. Now turning normalize= True\n",
    "plot_confusion_matrix(confusion_matrix, \n",
    "                      ['0', '1','2','3','4','5','6','7','8','9'],\n",
    "                     normalize=True)"
   ]
  },
  {
   "cell_type": "markdown",
   "metadata": {},
   "source": [
    "## Testing images on model"
   ]
  },
  {
   "cell_type": "code",
   "execution_count": 141,
   "metadata": {},
   "outputs": [],
   "source": [
    "def read_image(file_path):\n",
    "#     print(\"[INFO] loading and preprocessing image...\")  \n",
    "    image = load_img(file_path, target_size=(224, 224))  \n",
    "    image = img_to_array(image)  \n",
    "    image = np.expand_dims(image, axis=0)\n",
    "    image /= 255.  \n",
    "    return image"
   ]
  },
  {
   "cell_type": "code",
   "execution_count": 174,
   "metadata": {},
   "outputs": [],
   "source": [
    "def test_single_image(path):\n",
    "    animals = ['0', '1','2','3','4','5','6','7','8','9']\n",
    "    images = read_image(path)\n",
    "    time.sleep(.5)\n",
    "    bt_prediction = vgg16.predict(images)  \n",
    "    preds = model.predict_proba(bt_prediction)\n",
    "    for idx, animal, x in zip(range(0,10), animals , preds[0]):\n",
    "        print(\"ID: {}, Label: {} {}%\".format(idx, animal, round(x*100,2) ))\n",
    "    print('Final Decision:')\n",
    "    time.sleep(.5)\n",
    "    for x in range(3):\n",
    "        print('.'*(x+1))\n",
    "        time.sleep(.2)\n",
    "    class_predicted = model.predict_classes(bt_prediction)\n",
    "    class_dictionary = generator_top.class_indices  \n",
    "    inv_map = {v: k for k, v in class_dictionary.items()}  \n",
    "    print(\"ID: {}, Label: {}\".format(class_predicted[0], inv_map[class_predicted[0]]))  \n",
    "\n",
    "    return load_img(path)"
   ]
  },
  {
   "cell_type": "code",
   "execution_count": 175,
   "metadata": {},
   "outputs": [],
   "source": [
    "\n",
    "path = 'a00864.png'\n",
    "# os.chdir('training-a')"
   ]
  },
  {
   "cell_type": "code",
   "execution_count": 176,
   "metadata": {},
   "outputs": [
    {
     "name": "stdout",
     "output_type": "stream",
     "text": [
      "ID: 0, Label: 0 0.19%\n",
      "ID: 1, Label: 1 0.02%\n",
      "ID: 2, Label: 2 0.04%\n",
      "ID: 3, Label: 3 0.02%\n",
      "ID: 4, Label: 4 1.14%\n",
      "ID: 5, Label: 5 96.15%\n",
      "ID: 6, Label: 6 0.81%\n",
      "ID: 7, Label: 7 1.33%\n",
      "ID: 8, Label: 8 0.21%\n",
      "ID: 9, Label: 9 0.1%\n",
      "Final Decision:\n",
      ".\n",
      "..\n",
      "...\n",
      "ID: 5, Label: 5\n"
     ]
    },
    {
     "data": {
      "image/png": "[encoded data removed]",
      "text/plain": [
       "<PIL.PngImagePlugin.PngImageFile image mode=RGB size=180x180 at 0x1B19394A908>"
      ]
     },
     "execution_count": 176,
     "metadata": {},
     "output_type": "execute_result"
    }
   ],
   "source": [
    "test_single_image(path)"
   ]
  },
  {
   "cell_type": "code",
   "execution_count": 185,
   "metadata": {},
   "outputs": [],
   "source": [
    "import os\n",
    "def test_multiple_image(path,name):\n",
    "    animals = ['0', '1','2','3','4','5','6','7','8','9']\n",
    "    images = read_image(path)\n",
    "#     time.sleep(.5)\n",
    "    bt_prediction = vgg16.predict(images)  \n",
    "    preds = model.predict_proba(bt_prediction)\n",
    "    time.sleep(.01)\n",
    "    class_predicted = model.predict_classes(bt_prediction)\n",
    "    class_dictionary = generator_top.class_indices  \n",
    "    inv_map = {v: k for k, v in class_dictionary.items()}  \n",
    "#     print(\"ID: {}\".format(class_predicted[0]))  \n",
    "    img = load_img(path)\n",
    "    os.chdir(f'data3/train/{class_predicted[0]}')\n",
    "    img.save(f'{name}.png')\n",
    "    os.chdir('..')\n",
    "    os.chdir('..')\n",
    "    os.chdir('..')\n",
    "    \n",
    "    return None"
   ]
  },
  {
   "cell_type": "code",
   "execution_count": 186,
   "metadata": {},
   "outputs": [],
   "source": [
    "c = 0\n",
    "for i in range(3298,20000):\n",
    "    try:\n",
    "          if i<10:\n",
    "            path = 'training-a/a0000'+ str(i)+'.png'\n",
    "            name = 'a0000'+ str(i)\n",
    "            test_multiple_image(path,name)\n",
    "            continue\n",
    "          if i<100:\n",
    "            path = 'training-a/a000'+ str(i)+'.png'\n",
    "            name = 'a000'+ str(i)\n",
    "            test_multiple_image(path,name)\n",
    "            continue\n",
    "          if i<1000:\n",
    "            path = 'training-a/a00'+ str(i)+'.png'\n",
    "            name = 'a00'+ str(i)\n",
    "            test_multiple_image(path,name)\n",
    "            continue\n",
    "          if i<10000:\n",
    "            path = 'training-a/a0'+ str(i)+'.png'\n",
    "            name = 'a0'+ str(i)\n",
    "            test_multiple_image(path,name)\n",
    "            continue\n",
    "          if i<100000:\n",
    "            path = 'training-a/a'+ str(i)+'.png'\n",
    "            name = 'a'+ str(i)\n",
    "            test_multiple_image(path,name)\n",
    "            continue\n",
    "    except FileNotFoundError:\n",
    "        c = c+1\n",
    "        continue"
   ]
  },
  {
   "cell_type": "code",
   "execution_count": 146,
   "metadata": {},
   "outputs": [
    {
     "data": {
      "text/plain": [
       "'C:\\\\Users\\\\Sakib\\\\Documents\\\\GitHub\\\\animal-image-classifications'"
      ]
     },
     "execution_count": 146,
     "metadata": {},
     "output_type": "execute_result"
    }
   ],
   "source": [
    "os.getcwd()"
   ]
  },
  {
   "cell_type": "code",
   "execution_count": 133,
   "metadata": {},
   "outputs": [
    {
     "ename": "NameError",
     "evalue": "name 'x' is not defined",
     "output_type": "error",
     "traceback": [
      "\u001b[1;31m---------------------------------------------------------------------------\u001b[0m",
      "\u001b[1;31mNameError\u001b[0m                                 Traceback (most recent call last)",
      "\u001b[1;32m<ipython-input-133-1367176be261>\u001b[0m in \u001b[0;36m<module>\u001b[1;34m\u001b[0m\n\u001b[0;32m      1\u001b[0m \u001b[1;32mtry\u001b[0m\u001b[1;33m:\u001b[0m\u001b[1;33m\u001b[0m\u001b[1;33m\u001b[0m\u001b[0m\n\u001b[1;32m----> 2\u001b[1;33m   \u001b[0mprint\u001b[0m\u001b[1;33m(\u001b[0m\u001b[0mx\u001b[0m\u001b[1;33m)\u001b[0m\u001b[1;33m\u001b[0m\u001b[1;33m\u001b[0m\u001b[0m\n\u001b[0m\u001b[0;32m      3\u001b[0m \u001b[1;32mexcept\u001b[0m \u001b[0mFileNotFoundError\u001b[0m\u001b[1;33m:\u001b[0m\u001b[1;33m\u001b[0m\u001b[1;33m\u001b[0m\u001b[0m\n\u001b[0;32m      4\u001b[0m   \u001b[0mprint\u001b[0m\u001b[1;33m(\u001b[0m\u001b[1;34m\"Variable x is not defined\"\u001b[0m\u001b[1;33m)\u001b[0m\u001b[1;33m\u001b[0m\u001b[1;33m\u001b[0m\u001b[0m\n",
      "\u001b[1;31mNameError\u001b[0m: name 'x' is not defined"
     ]
    }
   ],
   "source": [
    "# try:\n",
    "#   print(x)\n",
    "# except FileNotFoundError:\n",
    "#   print(\"Variable x is not defined\")"
   ]
  },
  {
   "cell_type": "code",
   "execution_count": 149,
   "metadata": {},
   "outputs": [
    {
     "data": {
      "text/plain": [
       "20000"
      ]
     },
     "execution_count": 149,
     "metadata": {},
     "output_type": "execute_result"
    }
   ],
   "source": [
    "c"
   ]
  },
  {
   "cell_type": "code",
   "execution_count": 150,
   "metadata": {},
   "outputs": [
    {
     "data": {
      "text/plain": [
       "'taining-a/a19999'"
      ]
     },
     "execution_count": 150,
     "metadata": {},
     "output_type": "execute_result"
    }
   ],
   "source": [
    "path"
   ]
  },
  {
   "cell_type": "code",
   "execution_count": 178,
   "metadata": {},
   "outputs": [
    {
     "data": {
      "text/plain": [
       "'C:\\\\Users\\\\Sakib\\\\Documents\\\\GitHub\\\\animal-image-classifications'"
      ]
     },
     "execution_count": 178,
     "metadata": {},
     "output_type": "execute_result"
    }
   ],
   "source": [
    "os.getcwd()"
   ]
  },
  {
   "cell_type": "code",
   "execution_count": 177,
   "metadata": {},
   "outputs": [],
   "source": [
    "os.chdir('..')"
   ]
  },
  {
   "cell_type": "code",
   "execution_count": 184,
   "metadata": {},
   "outputs": [
    {
     "data": {
      "text/plain": [
       "3297"
      ]
     },
     "execution_count": 184,
     "metadata": {},
     "output_type": "execute_result"
    }
   ],
   "source": [
    "i"
   ]
  },
  {
   "cell_type": "code",
   "execution_count": 27,
   "metadata": {},
   "outputs": [
    {
     "data": {
      "text/plain": [
       "['mlbrain_CNNvgg.joblib']"
      ]
     },
     "execution_count": 27,
     "metadata": {},
     "output_type": "execute_result"
    }
   ],
   "source": [
    "import joblib\n",
    "joblib.dump(vgg16, 'mlbrain_CNNvgg.joblib')"
   ]
  },
  {
   "cell_type": "code",
   "execution_count": 36,
   "metadata": {},
   "outputs": [
    {
     "data": {
      "text/plain": [
       "['mlbrain_CNNmodel.joblib']"
      ]
     },
     "execution_count": 36,
     "metadata": {},
     "output_type": "execute_result"
    }
   ],
   "source": [
    "joblib.dump(model, 'mlbrain_CNNmodel.joblib')"
   ]
  },
  {
   "cell_type": "code",
   "execution_count": null,
   "metadata": {},
   "outputs": [],
   "source": []
  }
 ],
 "metadata": {
  "kernelspec": {
   "display_name": "Python 3",
   "language": "python",
   "name": "python3"
  },
  "language_info": {
   "codemirror_mode": {
    "name": "ipython",
    "version": 3
   },
   "file_extension": ".py",
   "mimetype": "text/x-python",
   "name": "python",
   "nbconvert_exporter": "python",
   "pygments_lexer": "ipython3",
   "version": "3.7.5"
  }
 },
 "nbformat": 4,
 "nbformat_minor": 2
}
